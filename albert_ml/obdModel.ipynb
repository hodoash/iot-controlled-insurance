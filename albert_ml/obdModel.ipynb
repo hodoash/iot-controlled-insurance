{
 "cells": [
  {
   "cell_type": "code",
   "execution_count": 1,
   "id": "becoming-southwest",
   "metadata": {},
   "outputs": [
    {
     "ename": "ModuleNotFoundError",
     "evalue": "No module named 'pandas'",
     "output_type": "error",
     "traceback": [
      "\u001b[0;31m---------------------------------------------------------------------------\u001b[0m",
      "\u001b[0;31mModuleNotFoundError\u001b[0m                       Traceback (most recent call last)",
      "\u001b[0;32m<ipython-input-1-9e2b2e15109c>\u001b[0m in \u001b[0;36m<module>\u001b[0;34m\u001b[0m\n\u001b[0;32m----> 1\u001b[0;31m \u001b[0;32mimport\u001b[0m \u001b[0mpandas\u001b[0m \u001b[0;32mas\u001b[0m \u001b[0mpd\u001b[0m\u001b[0;34m\u001b[0m\u001b[0;34m\u001b[0m\u001b[0m\n\u001b[0m\u001b[1;32m      2\u001b[0m \u001b[0;32mimport\u001b[0m \u001b[0mnumpy\u001b[0m \u001b[0;32mas\u001b[0m \u001b[0mnp\u001b[0m\u001b[0;34m\u001b[0m\u001b[0;34m\u001b[0m\u001b[0m\n\u001b[1;32m      3\u001b[0m \u001b[0;32mimport\u001b[0m \u001b[0mmatplotlib\u001b[0m \u001b[0;32mas\u001b[0m \u001b[0mplt\u001b[0m\u001b[0;34m\u001b[0m\u001b[0;34m\u001b[0m\u001b[0m\n\u001b[1;32m      4\u001b[0m \u001b[0;32mfrom\u001b[0m \u001b[0msklearn\u001b[0m\u001b[0;34m.\u001b[0m\u001b[0mensemble\u001b[0m \u001b[0;32mimport\u001b[0m \u001b[0mRandomForestClassifier\u001b[0m\u001b[0;34m\u001b[0m\u001b[0;34m\u001b[0m\u001b[0m\n\u001b[1;32m      5\u001b[0m \u001b[0;32mfrom\u001b[0m \u001b[0msklearn\u001b[0m\u001b[0;34m.\u001b[0m\u001b[0mmodel_selection\u001b[0m \u001b[0;32mimport\u001b[0m \u001b[0mtrain_test_split\u001b[0m\u001b[0;34m\u001b[0m\u001b[0;34m\u001b[0m\u001b[0m\n",
      "\u001b[0;31mModuleNotFoundError\u001b[0m: No module named 'pandas'"
     ]
    }
   ],
   "source": [
    "\n",
    "import pandas as pd\n",
    "import numpy as np\n",
    "import matplotlib as plt\n",
    "from sklearn.ensemble import RandomForestClassifier\n",
    "from sklearn.model_selection import train_test_split\n",
    "from sklearn.feature_selection import SelectKBest, chi2\n",
    "from sklearn import preprocessing"
   ]
  },
  {
   "cell_type": "code",
   "execution_count": null,
   "metadata": {},
   "outputs": [
    {
     "ename": "Error",
     "evalue": "Jupyter cannot be started. Error attempting to locate jupyter: Data Science libraries jupyter and notebook are not installed in interpreter Python 3.8.1 64-bit.",
     "output_type": "error",
     "traceback": [
      "Error: Jupyter cannot be started. Error attempting to locate jupyter: Data Science libraries jupyter and notebook are not installed in interpreter Python 3.8.1 64-bit.",
      "at A.startServer (/Users/leftee/.vscode/extensions/ms-python.python-2020.2.64397/out/client/extension.js:1:786058)",
      "at A.ensureServerAndNotebookImpl (/Users/leftee/.vscode/extensions/ms-python.python-2020.2.64397/out/client/extension.js:1:785513)",
      "at A.ensureServerAndNotebook (/Users/leftee/.vscode/extensions/ms-python.python-2020.2.64397/out/client/extension.js:1:785314)",
      "at A.submitCode (/Users/leftee/.vscode/extensions/ms-python.python-2020.2.64397/out/client/extension.js:1:782266)",
      "at A.reexecuteCell (/Users/leftee/.vscode/extensions/ms-python.python-2020.2.64397/out/client/extension.js:75:879318)"
     ]
    }
   ],
   "source": [
    "obdData1=\"opel_corsa_01_clean.csv\"\n",
    "obdData2=\"peugeot_207_01_clean.csv\"\n",
    "df1=pd.read_csv(obdData1,sep = ';')\n",
    "df2=pd.read_csv(obdData2,sep = ';')\n",
    "frames=[df1,df2]\n",
    "totalDf=pd.concat(frames)\n",
    "cleanData=totalDf.dropna()\n",
    "cleanData.head(20)\n",
    "#list(df1.columns)\n",
    "#df1.describe()\n"
   ]
  },
  {
   "cell_type": "code",
   "execution_count": 26,
   "id": "violent-lexington",
   "metadata": {},
   "outputs": [
    {
     "name": "stdout",
     "output_type": "stream",
     "text": [
      "<class 'pandas.core.frame.DataFrame'>\n",
      "Int64Index: 15230 entries, 59 to 8613\n",
      "Data columns (total 17 columns):\n",
      " #   Column                     Non-Null Count  Dtype  \n",
      "---  ------                     --------------  -----  \n",
      " 0             15230 non-null  float64\n",
      " 1   VehicleSpeedInstantaneous  15230 non-null  float64\n",
      " 2   VehicleSpeedAverage        15230 non-null  float64\n",
      " 3   VehicleSpeedVariance       15230 non-null  float64\n",
      " 4   VehicleSpeedVariation      15230 non-null  float64\n",
      " 5   LongitudinalAcceleration   15230 non-null  float64\n",
      " 6   EngineLoad                 15230 non-null  float64\n",
      " 7   EngineCoolantTemperature   15230 non-null  float64\n",
      " 8   ManifoldAbsolutePressure   15230 non-null  float64\n",
      " 9   EngineRPM                  15230 non-null  float64\n",
      " 10  MassAirFlow                15230 non-null  float64\n",
      " 11  IntakeAirTemperature       15230 non-null  float64\n",
      " 12  VerticalAcceleration       15230 non-null  float64\n",
      " 13  FuelConsumptionAverage     15230 non-null  float64\n",
      " 14  roadSurface                15230 non-null  object \n",
      " 15  traffic                    15230 non-null  object \n",
      " 16  drivingStyle               15230 non-null  object \n",
      "dtypes: float64(14), object(3)\n",
      "memory usage: 2.1+ MB\n"
     ]
    }
   ],
   "source": [
    "#totalDf.shape\n",
    "\n",
    "cleanData.info()"
   ]
  },
  {
   "cell_type": "code",
   "execution_count": 27,
   "id": "beginning-marine",
   "metadata": {},
   "outputs": [
    {
     "data": {
      "text/plain": [
       "0    13460\n",
       "1     1770\n",
       "Name: drivingStyle, dtype: int64"
      ]
     },
     "execution_count": 27,
     "metadata": {},
     "output_type": "execute_result"
    }
   ],
   "source": [
    "#lb = preprocessing.LabelBinarizer()\n",
    "#style=cleanData['drivingStyle'].copy()\n",
    "#cleanData['drivingStyle'] = lb.fit_transform(style)\n",
    "cleanup_nums = {\"drivingStyle\": {\"EvenPaceStyle\": 0, \"AggressiveStyle\": 1 }}\n",
    "cleanData = cleanData.replace(cleanup_nums)\n",
    "#cleanData[\"drivingCode\"] = np.where(cleanData[\"drivingStyle\"].str.contains(\"EvenPaceStyle\"), 1, 0)\n",
    "#pd.to_numeric(cleanData['drivingCode'].values)\n",
    "#cleanData.head()\n",
    "cleanData['drivingStyle'].value_counts()"
   ]
  },
  {
   "cell_type": "code",
   "execution_count": 22,
   "id": "pretty-denmark",
   "metadata": {},
   "outputs": [],
   "source": [
    "#tempCleanData=cleanData[:,:-3]\n",
    "#tempCleanData.info()\n",
    "#tempCleanData['drivingStyle']=cleanData['drivingStyle']"
   ]
  },
  {
   "cell_type": "code",
   "execution_count": null,
   "id": "fitted-harris",
   "metadata": {},
   "outputs": [
    {
     "ename": "Error",
     "evalue": "Jupyter cannot be started. Error attempting to locate jupyter: Data Science libraries notebook and jupyter are not installed in interpreter Python 3.8.1 64-bit.",
     "output_type": "error",
     "traceback": [
      "Error: Jupyter cannot be started. Error attempting to locate jupyter: Data Science libraries notebook and jupyter are not installed in interpreter Python 3.8.1 64-bit.",
      "at A.startServer (/Users/leftee/.vscode/extensions/ms-python.python-2020.2.64397/out/client/extension.js:1:786058)",
      "at A.ensureServerAndNotebookImpl (/Users/leftee/.vscode/extensions/ms-python.python-2020.2.64397/out/client/extension.js:1:785513)",
      "at A.ensureServerAndNotebook (/Users/leftee/.vscode/extensions/ms-python.python-2020.2.64397/out/client/extension.js:1:785314)",
      "at A.submitCode (/Users/leftee/.vscode/extensions/ms-python.python-2020.2.64397/out/client/extension.js:1:782266)",
      "at A.reexecuteCell (/Users/leftee/.vscode/extensions/ms-python.python-2020.2.64397/out/client/extension.js:75:879318)"
     ]
    }
   ],
   "source": [
    "dataset=cleanData.values\n",
    "#tempData=cleanData[[\"VehicleSpeedInstantaneous\",\"VehicleSpeedAverage\"]]\n",
    "X=dataset[:,:-3]\n",
    "X.shape\n",
    "#X=tempData.copy().values\n",
    "#X=pd.to_numeric(dataset[:,:-3])\n",
    "y=pd.to_numeric(dataset[:,-1])\n",
    "#cleanData.values[:,-1]"
   ]
  },
  {
   "cell_type": "code",
   "execution_count": 63,
   "id": "ignored-pledge",
   "metadata": {},
   "outputs": [
    {
     "name": "stdout",
     "output_type": "stream",
     "text": [
      "train (12184, 14) (12184,)\n",
      "test (3046, 14) (3046,)\n"
     ]
    }
   ],
   "source": [
    "X_train,X_test,y_train,y_test=train_test_split(X,y,test_size=0.2)\n",
    "print(\"train\",X_train.shape,y_train.shape)\n",
    "print(\"test\",X_test.shape,y_test.shape)\n"
   ]
  },
  {
   "cell_type": "code",
   "execution_count": 64,
   "id": "transparent-jerusalem",
   "metadata": {},
   "outputs": [],
   "source": [
    "#fs=SelectKBest(score_func=chi2, k='all')\n",
    "#fs.fit(X_train,y_train)"
   ]
  },
  {
   "cell_type": "code",
   "execution_count": 65,
   "id": "allied-instrument",
   "metadata": {},
   "outputs": [],
   "source": [
    "from sklearn import preprocessing\n",
    "from sklearn.model_selection import cross_val_score, cross_val_predict\n",
    "from sklearn.metrics import accuracy_score, classification_report\n",
    "from sklearn.metrics import confusion_matrix, roc_auc_score\n",
    "def print_score(clf, X_train, X_test, y_train, y_test, train=True):\n",
    "    '''\n",
    "    v0.1 Follow the scikit learn library format in terms of input\n",
    "    print the accuracy score, classification report and confusion matrix of classifier\n",
    "    '''\n",
    "    lb = preprocessing.LabelBinarizer()\n",
    "    lb.fit(y_train)\n",
    "    if train:\n",
    "        '''\n",
    "        training performance\n",
    "        '''\n",
    "        res = clf.predict(X_train)\n",
    "        print(\"Train Result:\\n\")\n",
    "        print(\"accuracy score: {0:.4f}\\n\".format(accuracy_score(y_train, \n",
    "                                                                res)))\n",
    "        print(\"Classification Report: \\n {}\\n\".format(classification_report(y_train, \n",
    "                                                                            res)))\n",
    "        print(\"Confusion Matrix: \\n {}\\n\".format(confusion_matrix(y_train, \n",
    "                                                                  res)))\n",
    "        print(\"ROC AUC: {0:.4f}\\n\".format(roc_auc_score(lb.transform(y_train), \n",
    "                                                      lb.transform(res))))\n",
    "\n",
    "        res = cross_val_score(clf, X_train, y_train, cv=10, scoring='accuracy')\n",
    "        print(\"Average Accuracy: \\t {0:.4f}\".format(np.mean(res)))\n",
    "        print(\"Accuracy SD: \\t\\t {0:.4f}\".format(np.std(res)))\n",
    "        \n",
    "    elif train==False:\n",
    "        '''\n",
    "        test performance\n",
    "        '''\n",
    "        res_test = clf.predict(X_test)\n",
    "        print(\"Test Result:\\n\")        \n",
    "        print(\"accuracy score: {0:.4f}\\n\".format(accuracy_score(y_test, \n",
    "                                                                res_test)))\n",
    "        print(\"Classification Report: \\n {}\\n\".format(classification_report(y_test, \n",
    "                                                                            res_test)))\n",
    "        print(\"Confusion Matrix: \\n {}\\n\".format(confusion_matrix(y_test, \n",
    "                                                                  res_test)))   \n",
    "        print(\"ROC AUC: {0:.4f}\\n\".format(roc_auc_score(lb.transform(y_test), \n",
    "                                                      lb.transform(res_test))))\n",
    "        "
   ]
  },
  {
   "cell_type": "code",
   "execution_count": 66,
   "id": "postal-coalition",
   "metadata": {},
   "outputs": [],
   "source": [
    "rf_clf = RandomForestClassifier(random_state=42, n_estimators=100)"
   ]
  },
  {
   "cell_type": "code",
   "execution_count": 67,
   "id": "domestic-australian",
   "metadata": {},
   "outputs": [],
   "source": [
    "#tester=pd.to_numeric(y_train)\n",
    "#tester\n",
    "#y_train=tester"
   ]
  },
  {
   "cell_type": "code",
   "execution_count": 68,
   "id": "cardiac-passion",
   "metadata": {},
   "outputs": [
    {
     "data": {
      "text/plain": [
       "RandomForestClassifier(random_state=42)"
      ]
     },
     "execution_count": 68,
     "metadata": {},
     "output_type": "execute_result"
    }
   ],
   "source": [
    "rf_clf.fit(X_train, y_train)"
   ]
  },
  {
   "cell_type": "code",
   "execution_count": 69,
   "id": "civilian-poland",
   "metadata": {},
   "outputs": [
    {
     "name": "stdout",
     "output_type": "stream",
     "text": [
      "Train Result:\n",
      "\n",
      "accuracy score: 1.0000\n",
      "\n",
      "Classification Report: \n",
      "               precision    recall  f1-score   support\n",
      "\n",
      "           0       1.00      1.00      1.00     10779\n",
      "           1       1.00      1.00      1.00      1405\n",
      "\n",
      "    accuracy                           1.00     12184\n",
      "   macro avg       1.00      1.00      1.00     12184\n",
      "weighted avg       1.00      1.00      1.00     12184\n",
      "\n",
      "\n",
      "Confusion Matrix: \n",
      " [[10779     0]\n",
      " [    0  1405]]\n",
      "\n",
      "ROC AUC: 1.0000\n",
      "\n",
      "Average Accuracy: \t 0.9446\n",
      "Accuracy SD: \t\t 0.0065\n",
      "\n",
      "******************************\n",
      "\n",
      "Test Result:\n",
      "\n",
      "accuracy score: 0.9508\n",
      "\n",
      "Classification Report: \n",
      "               precision    recall  f1-score   support\n",
      "\n",
      "           0       0.95      0.99      0.97      2681\n",
      "           1       0.92      0.64      0.76       365\n",
      "\n",
      "    accuracy                           0.95      3046\n",
      "   macro avg       0.94      0.82      0.87      3046\n",
      "weighted avg       0.95      0.95      0.95      3046\n",
      "\n",
      "\n",
      "Confusion Matrix: \n",
      " [[2661   20]\n",
      " [ 130  235]]\n",
      "\n",
      "ROC AUC: 0.8182\n",
      "\n"
     ]
    }
   ],
   "source": [
    "print_score(rf_clf, X_train, X_test, y_train, y_test, train=True)\n",
    "print(\"\\n******************************\\n\")\n",
    "print_score(rf_clf, X_train, X_test, y_train, y_test, train=False)"
   ]
  },
  {
   "cell_type": "code",
   "execution_count": null,
   "id": "missing-medicine",
   "metadata": {},
   "outputs": [],
   "source": []
  }
 ],
 "metadata": {
  "kernelspec": {
   "display_name": "Python 3",
   "language": "python",
   "name": "python3"
  },
  "language_info": {
   "codemirror_mode": {
    "name": "ipython",
    "version": 3
   },
   "file_extension": ".py",
   "mimetype": "text/x-python",
   "name": "python",
   "nbconvert_exporter": "python",
   "pygments_lexer": "ipython3",
   "version": "3.9.2"
  }
 },
 "nbformat": 4,
 "nbformat_minor": 5
}
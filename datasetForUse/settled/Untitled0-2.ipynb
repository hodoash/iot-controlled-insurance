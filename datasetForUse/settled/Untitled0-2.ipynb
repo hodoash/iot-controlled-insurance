{
  "nbformat": 4,
  "nbformat_minor": 0,
  "metadata": {
    "colab": {
      "name": "Untitled0.ipynb",
      "provenance": []
    },
    "kernelspec": {
      "name": "python3",
      "display_name": "Python 3"
    },
    "language_info": {
      "name": "python"
    }
  },
  "cells": [
    {
      "cell_type": "code",
      "metadata": {
        "id": "z1CKjfxyhBBy"
      },
      "source": [
        "import csv\n",
        "import pandas as pd\n",
        "import numpy as np\n",
        "from numpy.random import RandomState"
      ],
      "execution_count": 67,
      "outputs": []
    },
    {
      "cell_type": "code",
      "metadata": {
        "id": "n8JMEhsXipiY"
      },
      "source": [
        ""
      ],
      "execution_count": null,
      "outputs": []
    },
    {
      "cell_type": "code",
      "metadata": {
        "id": "onxWGs0ihQI5"
      },
      "source": [
        "df=pd.read_csv(\"/content/Albert_data/opel_corsa_clean_total.csv\")"
      ],
      "execution_count": 8,
      "outputs": []
    },
    {
      "cell_type": "code",
      "metadata": {
        "id": "qig23Xi4iCAG",
        "colab": {
          "base_uri": "https://localhost:8080/",
          "height": 224
        },
        "outputId": "c519d316-1ccf-429a-f59d-8f52c2b936ac"
      },
      "source": [
        "df.head()"
      ],
      "execution_count": 9,
      "outputs": [
        {
          "output_type": "execute_result",
          "data": {
            "text/html": [
              "<div>\n",
              "<style scoped>\n",
              "    .dataframe tbody tr th:only-of-type {\n",
              "        vertical-align: middle;\n",
              "    }\n",
              "\n",
              "    .dataframe tbody tr th {\n",
              "        vertical-align: top;\n",
              "    }\n",
              "\n",
              "    .dataframe thead th {\n",
              "        text-align: right;\n",
              "    }\n",
              "</style>\n",
              "<table border=\"1\" class=\"dataframe\">\n",
              "  <thead>\n",
              "    <tr style=\"text-align: right;\">\n",
              "      <th></th>\n",
              "      <th>AltitudeVariation</th>\n",
              "      <th>VehicleSpeedInstantaneous</th>\n",
              "      <th>VehicleSpeedAverage</th>\n",
              "      <th>VehicleSpeedVariance</th>\n",
              "      <th>VehicleSpeedVariation</th>\n",
              "      <th>LongitudinalAcceleration</th>\n",
              "      <th>EngineLoad</th>\n",
              "      <th>EngineCoolantTemperature</th>\n",
              "      <th>ManifoldAbsolutePressure</th>\n",
              "      <th>EngineRPM</th>\n",
              "      <th>MassAirFlow</th>\n",
              "      <th>IntakeAirTemperature</th>\n",
              "      <th>VerticalAcceleration</th>\n",
              "      <th>FuelConsumptionAverage</th>\n",
              "      <th>roadSurface</th>\n",
              "      <th>traffic</th>\n",
              "      <th>drivingStyle</th>\n",
              "    </tr>\n",
              "  </thead>\n",
              "  <tbody>\n",
              "    <tr>\n",
              "      <th>0</th>\n",
              "      <td>NaN</td>\n",
              "      <td>0</td>\n",
              "      <td>NaN</td>\n",
              "      <td>NaN</td>\n",
              "      <td>NaN</td>\n",
              "      <td>0.0156</td>\n",
              "      <td>25.49019623</td>\n",
              "      <td>64</td>\n",
              "      <td>100</td>\n",
              "      <td>801</td>\n",
              "      <td>7.849999905</td>\n",
              "      <td>22</td>\n",
              "      <td>-0.0078</td>\n",
              "      <td>NaN</td>\n",
              "      <td>SmoothCondition</td>\n",
              "      <td>LowCongestionCondition</td>\n",
              "      <td>EvenPaceStyle</td>\n",
              "    </tr>\n",
              "    <tr>\n",
              "      <th>1</th>\n",
              "      <td>NaN</td>\n",
              "      <td>0</td>\n",
              "      <td>NaN</td>\n",
              "      <td>NaN</td>\n",
              "      <td>NaN</td>\n",
              "      <td>0.0156</td>\n",
              "      <td>25.49019623</td>\n",
              "      <td>64</td>\n",
              "      <td>100</td>\n",
              "      <td>803</td>\n",
              "      <td>7.889999866</td>\n",
              "      <td>22</td>\n",
              "      <td>-0.0156</td>\n",
              "      <td>NaN</td>\n",
              "      <td>SmoothCondition</td>\n",
              "      <td>LowCongestionCondition</td>\n",
              "      <td>EvenPaceStyle</td>\n",
              "    </tr>\n",
              "    <tr>\n",
              "      <th>2</th>\n",
              "      <td>NaN</td>\n",
              "      <td>NaN</td>\n",
              "      <td>NaN</td>\n",
              "      <td>NaN</td>\n",
              "      <td>NaN</td>\n",
              "      <td>0.0273</td>\n",
              "      <td>25.88235283</td>\n",
              "      <td>64</td>\n",
              "      <td>100</td>\n",
              "      <td>800</td>\n",
              "      <td>7.769999981</td>\n",
              "      <td>22</td>\n",
              "      <td>-0.0273</td>\n",
              "      <td>NaN</td>\n",
              "      <td>SmoothCondition</td>\n",
              "      <td>LowCongestionCondition</td>\n",
              "      <td>EvenPaceStyle</td>\n",
              "    </tr>\n",
              "    <tr>\n",
              "      <th>3</th>\n",
              "      <td>NaN</td>\n",
              "      <td>NaN</td>\n",
              "      <td>NaN</td>\n",
              "      <td>NaN</td>\n",
              "      <td>NaN</td>\n",
              "      <td>0.0391</td>\n",
              "      <td>25.88235283</td>\n",
              "      <td>64</td>\n",
              "      <td>100</td>\n",
              "      <td>798</td>\n",
              "      <td>7.769999981</td>\n",
              "      <td>22</td>\n",
              "      <td>-0.0273</td>\n",
              "      <td>NaN</td>\n",
              "      <td>SmoothCondition</td>\n",
              "      <td>LowCongestionCondition</td>\n",
              "      <td>EvenPaceStyle</td>\n",
              "    </tr>\n",
              "    <tr>\n",
              "      <th>4</th>\n",
              "      <td>NaN</td>\n",
              "      <td>0</td>\n",
              "      <td>NaN</td>\n",
              "      <td>NaN</td>\n",
              "      <td>NaN</td>\n",
              "      <td>0.0469</td>\n",
              "      <td>25.88235283</td>\n",
              "      <td>65</td>\n",
              "      <td>100</td>\n",
              "      <td>798</td>\n",
              "      <td>7.940000057</td>\n",
              "      <td>22</td>\n",
              "      <td>-0.0312</td>\n",
              "      <td>NaN</td>\n",
              "      <td>SmoothCondition</td>\n",
              "      <td>LowCongestionCondition</td>\n",
              "      <td>EvenPaceStyle</td>\n",
              "    </tr>\n",
              "  </tbody>\n",
              "</table>\n",
              "</div>"
            ],
            "text/plain": [
              "  AltitudeVariation  ...   drivingStyle\n",
              "0               NaN  ...  EvenPaceStyle\n",
              "1               NaN  ...  EvenPaceStyle\n",
              "2               NaN  ...  EvenPaceStyle\n",
              "3               NaN  ...  EvenPaceStyle\n",
              "4               NaN  ...  EvenPaceStyle\n",
              "\n",
              "[5 rows x 17 columns]"
            ]
          },
          "metadata": {
            "tags": []
          },
          "execution_count": 9
        }
      ]
    },
    {
      "cell_type": "code",
      "metadata": {
        "colab": {
          "base_uri": "https://localhost:8080/"
        },
        "id": "jZkVYo9-j1vA",
        "outputId": "812392e5-9d1a-4e09-d491-0727ce90c3cd"
      },
      "source": [
        "df.size"
      ],
      "execution_count": 10,
      "outputs": [
        {
          "output_type": "execute_result",
          "data": {
            "text/plain": [
              "199257"
            ]
          },
          "metadata": {
            "tags": []
          },
          "execution_count": 10
        }
      ]
    },
    {
      "cell_type": "code",
      "metadata": {
        "colab": {
          "base_uri": "https://localhost:8080/"
        },
        "id": "sSiSA8pinlhA",
        "outputId": "9d2020b3-d382-404a-b2b3-4f4936ae0fcc"
      },
      "source": [
        "nan_value = float(\"NaN\")\n",
        "df.replace(\"\", nan_value, inplace=True)\n",
        "df.dropna(inplace=True)\n",
        "df.size"
      ],
      "execution_count": 28,
      "outputs": [
        {
          "output_type": "execute_result",
          "data": {
            "text/plain": [
              "189227"
            ]
          },
          "metadata": {
            "tags": []
          },
          "execution_count": 28
        }
      ]
    },
    {
      "cell_type": "code",
      "metadata": {
        "colab": {
          "base_uri": "https://localhost:8080/"
        },
        "id": "mtEoTc_zlzsD",
        "outputId": "d60b6edd-ca7e-4fd3-95d4-9a9343b4dccf"
      },
      "source": [
        "df['drivingStyle'].value_counts()"
      ],
      "execution_count": 29,
      "outputs": [
        {
          "output_type": "execute_result",
          "data": {
            "text/plain": [
              "EvenPaceStyle      9041\n",
              "AggressiveStyle    2089\n",
              "drivingStyle          1\n",
              "Name: drivingStyle, dtype: int64"
            ]
          },
          "metadata": {
            "tags": []
          },
          "execution_count": 29
        }
      ]
    },
    {
      "cell_type": "code",
      "metadata": {
        "colab": {
          "base_uri": "https://localhost:8080/"
        },
        "id": "lvet8r_Wpvyi",
        "outputId": "3012223e-d378-4060-f44a-39dfa101dd27"
      },
      "source": [
        "len(df)"
      ],
      "execution_count": 30,
      "outputs": [
        {
          "output_type": "execute_result",
          "data": {
            "text/plain": [
              "11131"
            ]
          },
          "metadata": {
            "tags": []
          },
          "execution_count": 30
        }
      ]
    },
    {
      "cell_type": "code",
      "metadata": {
        "colab": {
          "base_uri": "https://localhost:8080/"
        },
        "id": "qWDidWZPqGU1",
        "outputId": "657f3d33-a5e5-4926-8ea0-489cd1cc97fc"
      },
      "source": [
        "df2=df.loc[df['drivingStyle'] == 'EvenPaceStyle']\n",
        "df2.size"
      ],
      "execution_count": 32,
      "outputs": [
        {
          "output_type": "execute_result",
          "data": {
            "text/plain": [
              "153697"
            ]
          },
          "metadata": {
            "tags": []
          },
          "execution_count": 32
        }
      ]
    },
    {
      "cell_type": "code",
      "metadata": {
        "colab": {
          "base_uri": "https://localhost:8080/"
        },
        "id": "mXaNJv-DqTN_",
        "outputId": "807b5c52-7f05-4477-da4e-daa92cc2be26"
      },
      "source": [
        "df.drop(df.query(\"drivingStyle=='EvenPaceStyle'\").sample(frac=0.55).index)\n",
        "df.drivingStyle.value_counts()"
      ],
      "execution_count": 38,
      "outputs": [
        {
          "output_type": "execute_result",
          "data": {
            "text/plain": [
              "EvenPaceStyle      9041\n",
              "AggressiveStyle    2089\n",
              "drivingStyle          1\n",
              "Name: drivingStyle, dtype: int64"
            ]
          },
          "metadata": {
            "tags": []
          },
          "execution_count": 38
        }
      ]
    },
    {
      "cell_type": "code",
      "metadata": {
        "colab": {
          "base_uri": "https://localhost:8080/"
        },
        "id": "XYTQ2_0ssCJI",
        "outputId": "c930d97f-dd03-4bae-cedc-832277cf4111"
      },
      "source": [
        "newDtf=pd.concat([df.loc[df.drivingStyle!='EvenPaceStyle'],df.loc[df.drivingStyle=='EvenPaceStyle'].sample(frac=0.55)])\n",
        "newDtf.drivingStyle.value_counts()"
      ],
      "execution_count": 41,
      "outputs": [
        {
          "output_type": "execute_result",
          "data": {
            "text/plain": [
              "EvenPaceStyle      4973\n",
              "AggressiveStyle    2089\n",
              "drivingStyle          1\n",
              "Name: drivingStyle, dtype: int64"
            ]
          },
          "metadata": {
            "tags": []
          },
          "execution_count": 41
        }
      ]
    },
    {
      "cell_type": "code",
      "metadata": {
        "id": "ISqapChsxp_r"
      },
      "source": [
        "rng = RandomState()\n",
        "machine = newDtf.sample(frac=0.97, random_state=rng)\n",
        "demo = newDtf.loc[~newDtf.index.isin(machine.index)]"
      ],
      "execution_count": 99,
      "outputs": []
    },
    {
      "cell_type": "code",
      "metadata": {
        "colab": {
          "base_uri": "https://localhost:8080/"
        },
        "id": "DsL2YJYSyeQ3",
        "outputId": "2ba1aa1c-76aa-4702-c541-580d27478474"
      },
      "source": [
        "machine.drivingStyle.value_counts()"
      ],
      "execution_count": 100,
      "outputs": [
        {
          "output_type": "execute_result",
          "data": {
            "text/plain": [
              "EvenPaceStyle      4824\n",
              "AggressiveStyle    2026\n",
              "drivingStyle          1\n",
              "Name: drivingStyle, dtype: int64"
            ]
          },
          "metadata": {
            "tags": []
          },
          "execution_count": 100
        }
      ]
    },
    {
      "cell_type": "code",
      "metadata": {
        "colab": {
          "base_uri": "https://localhost:8080/"
        },
        "id": "A_WC8Q-fyesW",
        "outputId": "b525167b-7bc5-4e62-a674-1b29e8fdd66c"
      },
      "source": [
        "demo.drivingStyle.value_counts()"
      ],
      "execution_count": 101,
      "outputs": [
        {
          "output_type": "execute_result",
          "data": {
            "text/plain": [
              "EvenPaceStyle      149\n",
              "AggressiveStyle     63\n",
              "Name: drivingStyle, dtype: int64"
            ]
          },
          "metadata": {
            "tags": []
          },
          "execution_count": 101
        }
      ]
    },
    {
      "cell_type": "code",
      "metadata": {
        "colab": {
          "base_uri": "https://localhost:8080/",
          "height": 224
        },
        "id": "5UjU0XEOyn4k",
        "outputId": "55b77afb-ac8b-4dab-b729-9d89c545795b"
      },
      "source": [
        "demo.head()"
      ],
      "execution_count": 102,
      "outputs": [
        {
          "output_type": "execute_result",
          "data": {
            "text/html": [
              "<div>\n",
              "<style scoped>\n",
              "    .dataframe tbody tr th:only-of-type {\n",
              "        vertical-align: middle;\n",
              "    }\n",
              "\n",
              "    .dataframe tbody tr th {\n",
              "        vertical-align: top;\n",
              "    }\n",
              "\n",
              "    .dataframe thead th {\n",
              "        text-align: right;\n",
              "    }\n",
              "</style>\n",
              "<table border=\"1\" class=\"dataframe\">\n",
              "  <thead>\n",
              "    <tr style=\"text-align: right;\">\n",
              "      <th></th>\n",
              "      <th>AltitudeVariation</th>\n",
              "      <th>VehicleSpeedInstantaneous</th>\n",
              "      <th>VehicleSpeedAverage</th>\n",
              "      <th>VehicleSpeedVariance</th>\n",
              "      <th>VehicleSpeedVariation</th>\n",
              "      <th>LongitudinalAcceleration</th>\n",
              "      <th>EngineLoad</th>\n",
              "      <th>EngineCoolantTemperature</th>\n",
              "      <th>ManifoldAbsolutePressure</th>\n",
              "      <th>EngineRPM</th>\n",
              "      <th>MassAirFlow</th>\n",
              "      <th>IntakeAirTemperature</th>\n",
              "      <th>VerticalAcceleration</th>\n",
              "      <th>FuelConsumptionAverage</th>\n",
              "      <th>roadSurface</th>\n",
              "      <th>traffic</th>\n",
              "      <th>drivingStyle</th>\n",
              "    </tr>\n",
              "  </thead>\n",
              "  <tbody>\n",
              "    <tr>\n",
              "      <th>3877</th>\n",
              "      <td>-0.59997559</td>\n",
              "      <td>14.18633938</td>\n",
              "      <td>51.3335325</td>\n",
              "      <td>655.4742053</td>\n",
              "      <td>2.92733956</td>\n",
              "      <td>0.5506</td>\n",
              "      <td>86.66667175</td>\n",
              "      <td>79</td>\n",
              "      <td>112</td>\n",
              "      <td>1314</td>\n",
              "      <td>12.21000004</td>\n",
              "      <td>13</td>\n",
              "      <td>-0.0195</td>\n",
              "      <td>14.57382011</td>\n",
              "      <td>SmoothCondition</td>\n",
              "      <td>LowCongestionCondition</td>\n",
              "      <td>EvenPaceStyle</td>\n",
              "    </tr>\n",
              "    <tr>\n",
              "      <th>3116</th>\n",
              "      <td>0</td>\n",
              "      <td>121.3720169</td>\n",
              "      <td>121.3232271</td>\n",
              "      <td>2.413416245</td>\n",
              "      <td>0</td>\n",
              "      <td>0.605</td>\n",
              "      <td>64.31372833</td>\n",
              "      <td>83</td>\n",
              "      <td>179</td>\n",
              "      <td>2426</td>\n",
              "      <td>43.36999893</td>\n",
              "      <td>19</td>\n",
              "      <td>-0.359</td>\n",
              "      <td>8.434848785</td>\n",
              "      <td>SmoothCondition</td>\n",
              "      <td>LowCongestionCondition</td>\n",
              "      <td>EvenPaceStyle</td>\n",
              "    </tr>\n",
              "    <tr>\n",
              "      <th>8059</th>\n",
              "      <td>2.6999512</td>\n",
              "      <td>88.04537964</td>\n",
              "      <td>109.3961947</td>\n",
              "      <td>40.75645824</td>\n",
              "      <td>-4.50359344</td>\n",
              "      <td>7.8861</td>\n",
              "      <td>0</td>\n",
              "      <td>84</td>\n",
              "      <td>109</td>\n",
              "      <td>1637</td>\n",
              "      <td>18.65999985</td>\n",
              "      <td>16</td>\n",
              "      <td>16.9066</td>\n",
              "      <td>9.554153442</td>\n",
              "      <td>SmoothCondition</td>\n",
              "      <td>LowCongestionCondition</td>\n",
              "      <td>EvenPaceStyle</td>\n",
              "    </tr>\n",
              "    <tr>\n",
              "      <th>3564</th>\n",
              "      <td>0.2999878</td>\n",
              "      <td>0</td>\n",
              "      <td>20.43883746</td>\n",
              "      <td>115.5949089</td>\n",
              "      <td>0</td>\n",
              "      <td>0.4805</td>\n",
              "      <td>25.09803963</td>\n",
              "      <td>75</td>\n",
              "      <td>100</td>\n",
              "      <td>796</td>\n",
              "      <td>7.940000057</td>\n",
              "      <td>10</td>\n",
              "      <td>0.0039</td>\n",
              "      <td>22.07177925</td>\n",
              "      <td>SmoothCondition</td>\n",
              "      <td>LowCongestionCondition</td>\n",
              "      <td>AggressiveStyle</td>\n",
              "    </tr>\n",
              "    <tr>\n",
              "      <th>7623</th>\n",
              "      <td>-4.90002441</td>\n",
              "      <td>4.953959465</td>\n",
              "      <td>19.60191842</td>\n",
              "      <td>395.5644819</td>\n",
              "      <td>-1.576260567</td>\n",
              "      <td>6.6426</td>\n",
              "      <td>29.41176605</td>\n",
              "      <td>58</td>\n",
              "      <td>100</td>\n",
              "      <td>855</td>\n",
              "      <td>5.190000057</td>\n",
              "      <td>17</td>\n",
              "      <td>17.3287</td>\n",
              "      <td>22.49768639</td>\n",
              "      <td>SmoothCondition</td>\n",
              "      <td>LowCongestionCondition</td>\n",
              "      <td>EvenPaceStyle</td>\n",
              "    </tr>\n",
              "  </tbody>\n",
              "</table>\n",
              "</div>"
            ],
            "text/plain": [
              "     AltitudeVariation  ...     drivingStyle\n",
              "3877       -0.59997559  ...    EvenPaceStyle\n",
              "3116                 0  ...    EvenPaceStyle\n",
              "8059         2.6999512  ...    EvenPaceStyle\n",
              "3564         0.2999878  ...  AggressiveStyle\n",
              "7623       -4.90002441  ...    EvenPaceStyle\n",
              "\n",
              "[5 rows x 17 columns]"
            ]
          },
          "metadata": {
            "tags": []
          },
          "execution_count": 102
        }
      ]
    },
    {
      "cell_type": "code",
      "metadata": {
        "colab": {
          "base_uri": "https://localhost:8080/",
          "height": 224
        },
        "id": "_g0zCSBD0UQJ",
        "outputId": "0d1fb72d-a87c-4ea9-b38c-6058dd64cf0b"
      },
      "source": [
        "machine.head()"
      ],
      "execution_count": 103,
      "outputs": [
        {
          "output_type": "execute_result",
          "data": {
            "text/html": [
              "<div>\n",
              "<style scoped>\n",
              "    .dataframe tbody tr th:only-of-type {\n",
              "        vertical-align: middle;\n",
              "    }\n",
              "\n",
              "    .dataframe tbody tr th {\n",
              "        vertical-align: top;\n",
              "    }\n",
              "\n",
              "    .dataframe thead th {\n",
              "        text-align: right;\n",
              "    }\n",
              "</style>\n",
              "<table border=\"1\" class=\"dataframe\">\n",
              "  <thead>\n",
              "    <tr style=\"text-align: right;\">\n",
              "      <th></th>\n",
              "      <th>AltitudeVariation</th>\n",
              "      <th>VehicleSpeedInstantaneous</th>\n",
              "      <th>VehicleSpeedAverage</th>\n",
              "      <th>VehicleSpeedVariance</th>\n",
              "      <th>VehicleSpeedVariation</th>\n",
              "      <th>LongitudinalAcceleration</th>\n",
              "      <th>EngineLoad</th>\n",
              "      <th>EngineCoolantTemperature</th>\n",
              "      <th>ManifoldAbsolutePressure</th>\n",
              "      <th>EngineRPM</th>\n",
              "      <th>MassAirFlow</th>\n",
              "      <th>IntakeAirTemperature</th>\n",
              "      <th>VerticalAcceleration</th>\n",
              "      <th>FuelConsumptionAverage</th>\n",
              "      <th>roadSurface</th>\n",
              "      <th>traffic</th>\n",
              "      <th>drivingStyle</th>\n",
              "    </tr>\n",
              "  </thead>\n",
              "  <tbody>\n",
              "    <tr>\n",
              "      <th>3297</th>\n",
              "      <td>-0.70001221</td>\n",
              "      <td>22.29281998</td>\n",
              "      <td>14.19759869</td>\n",
              "      <td>93.38576704</td>\n",
              "      <td>-1.35107994</td>\n",
              "      <td>0.543</td>\n",
              "      <td>9.411765099</td>\n",
              "      <td>82</td>\n",
              "      <td>103</td>\n",
              "      <td>1632</td>\n",
              "      <td>10.10999966</td>\n",
              "      <td>21</td>\n",
              "      <td>-0.531</td>\n",
              "      <td>17.34122658</td>\n",
              "      <td>SmoothCondition</td>\n",
              "      <td>LowCongestionCondition</td>\n",
              "      <td>EvenPaceStyle</td>\n",
              "    </tr>\n",
              "    <tr>\n",
              "      <th>3120</th>\n",
              "      <td>2</td>\n",
              "      <td>122.047554</td>\n",
              "      <td>121.319474</td>\n",
              "      <td>2.396700554</td>\n",
              "      <td>-0.2251816</td>\n",
              "      <td>0.422</td>\n",
              "      <td>67.05882263</td>\n",
              "      <td>83</td>\n",
              "      <td>187</td>\n",
              "      <td>2458</td>\n",
              "      <td>45</td>\n",
              "      <td>19</td>\n",
              "      <td>-0.258</td>\n",
              "      <td>8.46099472</td>\n",
              "      <td>SmoothCondition</td>\n",
              "      <td>LowCongestionCondition</td>\n",
              "      <td>EvenPaceStyle</td>\n",
              "    </tr>\n",
              "    <tr>\n",
              "      <th>4819</th>\n",
              "      <td>0.2999878</td>\n",
              "      <td>103.1324463</td>\n",
              "      <td>110.0942524</td>\n",
              "      <td>16.59597171</td>\n",
              "      <td>-1.3510742</td>\n",
              "      <td>0.2539</td>\n",
              "      <td>54.90196228</td>\n",
              "      <td>81</td>\n",
              "      <td>159</td>\n",
              "      <td>2113</td>\n",
              "      <td>30.22999954</td>\n",
              "      <td>21</td>\n",
              "      <td>0.2812</td>\n",
              "      <td>8.92436409</td>\n",
              "      <td>SmoothCondition</td>\n",
              "      <td>LowCongestionCondition</td>\n",
              "      <td>EvenPaceStyle</td>\n",
              "    </tr>\n",
              "    <tr>\n",
              "      <th>3161</th>\n",
              "      <td>-7.2000122</td>\n",
              "      <td>78.36264038</td>\n",
              "      <td>110.1205224</td>\n",
              "      <td>151.8584781</td>\n",
              "      <td>-1.12590027</td>\n",
              "      <td>1.42</td>\n",
              "      <td>9.411765099</td>\n",
              "      <td>80</td>\n",
              "      <td>107</td>\n",
              "      <td>1530</td>\n",
              "      <td>25.73999977</td>\n",
              "      <td>17</td>\n",
              "      <td>-0.559</td>\n",
              "      <td>7.881323814</td>\n",
              "      <td>SmoothCondition</td>\n",
              "      <td>LowCongestionCondition</td>\n",
              "      <td>EvenPaceStyle</td>\n",
              "    </tr>\n",
              "    <tr>\n",
              "      <th>9753</th>\n",
              "      <td>4.8999634</td>\n",
              "      <td>52.91730118</td>\n",
              "      <td>97.91952037</td>\n",
              "      <td>336.579424</td>\n",
              "      <td>-1.57625961</td>\n",
              "      <td>0.9023</td>\n",
              "      <td>19.6078434</td>\n",
              "      <td>82</td>\n",
              "      <td>140</td>\n",
              "      <td>2219</td>\n",
              "      <td>18.71999931</td>\n",
              "      <td>14</td>\n",
              "      <td>-0.215</td>\n",
              "      <td>10.58269024</td>\n",
              "      <td>SmoothCondition</td>\n",
              "      <td>LowCongestionCondition</td>\n",
              "      <td>EvenPaceStyle</td>\n",
              "    </tr>\n",
              "  </tbody>\n",
              "</table>\n",
              "</div>"
            ],
            "text/plain": [
              "     AltitudeVariation  ...   drivingStyle\n",
              "3297       -0.70001221  ...  EvenPaceStyle\n",
              "3120                 2  ...  EvenPaceStyle\n",
              "4819         0.2999878  ...  EvenPaceStyle\n",
              "3161        -7.2000122  ...  EvenPaceStyle\n",
              "9753         4.8999634  ...  EvenPaceStyle\n",
              "\n",
              "[5 rows x 17 columns]"
            ]
          },
          "metadata": {
            "tags": []
          },
          "execution_count": 103
        }
      ]
    },
    {
      "cell_type": "code",
      "metadata": {
        "id": "OatTQX2w4iLE"
      },
      "source": [
        "machine.to_csv(\"/content/Albert_data/machine.csv\",index=False)"
      ],
      "execution_count": 107,
      "outputs": []
    },
    {
      "cell_type": "code",
      "metadata": {
        "id": "95VnZ5vF4yX-"
      },
      "source": [
        "demo.to_csv(\"/content/Albert_data/data.csv\",index=False)"
      ],
      "execution_count": 108,
      "outputs": []
    }
  ]
}